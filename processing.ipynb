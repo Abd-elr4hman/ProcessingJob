{
 "cells": [
  {
   "cell_type": "code",
   "execution_count": 7,
   "metadata": {},
   "outputs": [],
   "source": [
    "import boto3\n",
    "import pandas as pd\n",
    "import idx2numpy\n",
    "import numpy as np\n",
    "from os.path  import join\n",
    "\n",
    "import logging\n",
    "from botocore.exceptions import ClientError\n",
    "import os"
   ]
  },
  {
   "cell_type": "code",
   "execution_count": 2,
   "metadata": {},
   "outputs": [],
   "source": [
    "s3 = boto3.client(\"s3\")"
   ]
  },
  {
   "cell_type": "code",
   "execution_count": 3,
   "metadata": {},
   "outputs": [],
   "source": [
    "x_train= \"train-images.idx3-ubyte\"\n",
    "y_train= \"train-labels.idx1-ubyte\"\n",
    "x_test= \"t10k-images.idx3-ubyte\"\n",
    "y_test= \"t10k-labels.idx1-ubyte\"\n",
    "\n",
    "s3.download_file(\n",
    "    \"training-data-sagemaker-tensorflow-mnist\",\n",
    "    x_train,\n",
    "    \"train-images.idx3-ubyte\",\n",
    ")\n",
    "s3.download_file(\n",
    "    \"training-data-sagemaker-tensorflow-mnist\",\n",
    "    y_train,\n",
    "    \"train-labels-idx1-ubyte\",\n",
    ")\n",
    "s3.download_file(\n",
    "    \"training-data-sagemaker-tensorflow-mnist\",\n",
    "    x_test,\n",
    "    \"t10k-images-idx3-ubyte\",\n",
    ")\n",
    "s3.download_file(\n",
    "    \"training-data-sagemaker-tensorflow-mnist\",\n",
    "    y_test,\n",
    "    \"t10k-labels-idx1-ubyte\",\n",
    ")"
   ]
  },
  {
   "cell_type": "code",
   "execution_count": 4,
   "metadata": {},
   "outputs": [],
   "source": [
    "input_path = ''\n",
    "\n",
    "training_images_filepath = join(input_path, 'train-images.idx3-ubyte')\n",
    "training_labels_filepath = join(input_path, 'train-labels-idx1-ubyte')\n",
    "test_images_filepath = join(input_path, 't10k-images-idx3-ubyte')\n",
    "test_labels_filepath = join(input_path, 't10k-labels-idx1-ubyte')"
   ]
  },
  {
   "cell_type": "code",
   "execution_count": 5,
   "metadata": {},
   "outputs": [],
   "source": [
    "x_train = idx2numpy.convert_from_file(training_images_filepath)\n",
    "y_train = idx2numpy.convert_from_file(training_labels_filepath)\n",
    "x_test = idx2numpy.convert_from_file(test_images_filepath)\n",
    "y_test = idx2numpy.convert_from_file(test_labels_filepath)"
   ]
  },
  {
   "cell_type": "code",
   "execution_count": 6,
   "metadata": {},
   "outputs": [],
   "source": [
    "np.savez(\"mnist.npz\", x_test=x_test, x_train=x_train, y_train=y_train, y_test=y_test)"
   ]
  },
  {
   "cell_type": "code",
   "execution_count": 8,
   "metadata": {},
   "outputs": [],
   "source": [
    "def upload_file(file_name, bucket, object_name=None):\n",
    "    \"\"\"Upload a file to an S3 bucket\n",
    "\n",
    "    :param file_name: File to upload\n",
    "    :param bucket: Bucket to upload to\n",
    "    :param object_name: S3 object name. If not specified then file_name is used\n",
    "    :return: True if file was uploaded, else False\n",
    "    \"\"\"\n",
    "\n",
    "    # If S3 object_name was not specified, use file_name\n",
    "    if object_name is None:\n",
    "        object_name = os.path.basename(file_name)\n",
    "\n",
    "    # Upload the file\n",
    "    s3_client = boto3.client('s3')\n",
    "    try:\n",
    "        response = s3_client.upload_file(file_name, bucket, object_name)\n",
    "    except ClientError as e:\n",
    "        logging.error(e)\n",
    "        return False\n",
    "    return True"
   ]
  },
  {
   "cell_type": "code",
   "execution_count": 10,
   "metadata": {},
   "outputs": [
    {
     "data": {
      "text/plain": [
       "True"
      ]
     },
     "execution_count": 10,
     "metadata": {},
     "output_type": "execute_result"
    }
   ],
   "source": [
    "upload_file(\"mnist.npz\", \"training-data-sagemaker-tensorflow-mnist\",\"processing_output/mnist.npz\")"
   ]
  },
  {
   "cell_type": "code",
   "execution_count": null,
   "metadata": {},
   "outputs": [],
   "source": []
  }
 ],
 "metadata": {
  "kernelspec": {
   "display_name": "tf",
   "language": "python",
   "name": "python3"
  },
  "language_info": {
   "codemirror_mode": {
    "name": "ipython",
    "version": 3
   },
   "file_extension": ".py",
   "mimetype": "text/x-python",
   "name": "python",
   "nbconvert_exporter": "python",
   "pygments_lexer": "ipython3",
   "version": "3.9.12"
  },
  "orig_nbformat": 4
 },
 "nbformat": 4,
 "nbformat_minor": 2
}
